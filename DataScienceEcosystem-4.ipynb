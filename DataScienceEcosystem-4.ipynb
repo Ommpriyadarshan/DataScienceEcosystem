{
 "cells": [
  {
   "cell_type": "markdown",
   "id": "5ef1864f-55fe-4554-9a49-aaf550e02346",
   "metadata": {},
   "source": [
    "# Data Science Tools and Ecosystem\n"
   ]
  },
  {
   "cell_type": "markdown",
   "id": "4661b4d3-fc09-407e-8a9c-78e9cac5f81f",
   "metadata": {},
   "source": [
    "In this notebook, Data Science Tools and Ecosystem are summarized.\n"
   ]
  },
  {
   "cell_type": "markdown",
   "id": "faec43cd-be1c-47fb-a2f9-aee797190686",
   "metadata": {},
   "source": [
    "Some of the popular languages that Data Scientists use are:\n",
    "1. Python\n",
    "2. R\n",
    "3. SQL\n"
   ]
  },
  {
   "cell_type": "markdown",
   "id": "ab15053a-0ec2-4693-886f-41c641c9e3f7",
   "metadata": {},
   "source": [
    "Some of the commonly used libraries used by Data Scientists include:\n",
    "1. Pandas\n",
    "2. NumPy\n",
    "3. Matplotlib\n"
   ]
  },
  {
   "cell_type": "markdown",
   "id": "59a56329-98fd-4b28-808a-a5e5398eea24",
   "metadata": {},
   "source": [
    "### Below are a few examples of evaluating arithmetic expressions in Python.\n"
   ]
  },
  {
   "cell_type": "code",
   "execution_count": 8,
   "id": "2eb359da-97e6-442b-a5db-9371b5c8611f",
   "metadata": {},
   "outputs": [
    {
     "data": {
      "text/plain": [
       "17"
      ]
     },
     "execution_count": 8,
     "metadata": {},
     "output_type": "execute_result"
    }
   ],
   "source": [
    "# This is a simple arithmetic expression to multiply then add integers\n",
    "result = (3 * 4) + 5\n",
    "result\n"
   ]
  },
  {
   "cell_type": "code",
   "execution_count": 10,
   "id": "934e5762-ec25-45f2-b0b5-fa9b79d721fa",
   "metadata": {},
   "outputs": [
    {
     "data": {
      "text/plain": [
       "3.3333333333333335"
      ]
     },
     "execution_count": 10,
     "metadata": {},
     "output_type": "execute_result"
    }
   ],
   "source": [
    "# This will convert 200 minutes to hours by dividing by 60\n",
    "minutes = 200\n",
    "hours = minutes / 60\n",
    "hours\n"
   ]
  },
  {
   "cell_type": "markdown",
   "id": "a088f9ad-6db9-42c0-abd4-06bae6c9fcc8",
   "metadata": {},
   "source": [
    "** Objectives: **\n",
    "- List popular languages for Data Science.\n",
    "- List commonly used libraries for Data Science.\n",
    "- Create a table of Data Science tools.\n",
    "- Provide examples of arithmetic expressions in Python.\n"
   ]
  },
  {
   "cell_type": "markdown",
   "id": "d04e7e99-f394-46ce-88c8-e75a926c8ab2",
   "metadata": {},
   "source": [
    "## Author\n",
    "Omm Priyadarshan Parida"
   ]
  },
  {
   "cell_type": "code",
   "execution_count": null,
   "id": "2ebc393e-0641-4de1-a8b7-ceca78fb48b0",
   "metadata": {},
   "outputs": [],
   "source": []
  }
 ],
 "metadata": {
  "kernelspec": {
   "display_name": "Python 3 (ipykernel)",
   "language": "python",
   "name": "python3"
  },
  "language_info": {
   "codemirror_mode": {
    "name": "ipython",
    "version": 3
   },
   "file_extension": ".py",
   "mimetype": "text/x-python",
   "name": "python",
   "nbconvert_exporter": "python",
   "pygments_lexer": "ipython3",
   "version": "3.12.4"
  }
 },
 "nbformat": 4,
 "nbformat_minor": 5
}
